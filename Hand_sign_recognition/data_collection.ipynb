{
 "cells": [
  {
   "cell_type": "code",
   "id": "initial_id",
   "metadata": {
    "collapsed": true,
    "ExecuteTime": {
     "end_time": "2024-06-22T22:08:43.134330Z",
     "start_time": "2024-06-22T22:08:39.651762Z"
    }
   },
   "source": [
    "import os\n",
    "import mediapipe as mp\n",
    "import cv2\n",
    "import time"
   ],
   "outputs": [],
   "execution_count": 1
  },
  {
   "metadata": {
    "ExecuteTime": {
     "end_time": "2024-06-22T22:08:43.149957Z",
     "start_time": "2024-06-22T22:08:43.134330Z"
    }
   },
   "cell_type": "code",
   "source": [
    "DATA_DIR = './data'\n",
    "if not os.path.exists(DATA_DIR):\n",
    "    os.makedirs(DATA_DIR)"
   ],
   "id": "23cabf5652d3418e",
   "outputs": [],
   "execution_count": 2
  },
  {
   "metadata": {
    "ExecuteTime": {
     "end_time": "2024-06-22T22:08:43.165971Z",
     "start_time": "2024-06-22T22:08:43.149957Z"
    }
   },
   "cell_type": "code",
   "source": [
    "classes = ['A', 'B', 'C', 'D', 'E', 'F', 'G', 'H', 'I', 'J', 'K', 'L', 'M', 'N', 'O', 'P', 'Q', 'R', 'T', 'U', 'V', 'W', 'X', 'Y', 'Z']\n",
    "data_size = 100"
   ],
   "id": "f9041d93d3008ecf",
   "outputs": [],
   "execution_count": 3
  },
  {
   "metadata": {
    "jupyter": {
     "is_executing": true
    },
    "ExecuteTime": {
     "start_time": "2024-06-22T22:08:43.165971Z"
    }
   },
   "cell_type": "code",
   "source": [
    "if not os.path.exists(os.path.join(DATA_DIR, classes[0])):\n",
    "    os.makedirs(os.path.join(DATA_DIR, classes[0]))\n",
    "print(\"Collecting data for class {}\".format(classes[0]))\n",
    "\n",
    "cap = cv2.VideoCapture(0)\n",
    "while cap.isOpened():\n",
    "    ret, frame = cap.read()\n",
    "    if not ret: \n",
    "        break\n",
    "    frame = cv2.flip(frame, 1)\n",
    "    frameRGB = cv2.cvtColor(frame, cv2.COLOR_BGR2RGB)\n",
    "    cv2.imshow('Frame', frame)\n",
    "    time.sleep(20)\n",
    "    count = 0\n",
    "    \n",
    "    # while count < data_size:\n",
    "    #     time.sleep(1)\n",
    "    #     cv2.imwrite(os.path.join(DATA_DIR, classes[0], \"_{}.jpg\".format(count + 1)), frame)\n",
    "    #     print(count)\n",
    "    #     count += 1\n",
    "        \n",
    "    if cv2.waitKey(1) & 0xFF == ord('q'):\n",
    "        break\n",
    "\n",
    "cap.release()\n",
    "cv2.destroyAllWindows()"
   ],
   "id": "11f86770bc53efdf",
   "outputs": [
    {
     "name": "stdout",
     "output_type": "stream",
     "text": [
      "Collecting data for class A\n"
     ]
    }
   ],
   "execution_count": null
  },
  {
   "metadata": {
    "jupyter": {
     "is_executing": true
    }
   },
   "cell_type": "code",
   "source": "",
   "id": "d46af06e8d82101e",
   "outputs": [],
   "execution_count": null
  }
 ],
 "metadata": {
  "kernelspec": {
   "display_name": "Python 3",
   "language": "python",
   "name": "python3"
  },
  "language_info": {
   "codemirror_mode": {
    "name": "ipython",
    "version": 2
   },
   "file_extension": ".py",
   "mimetype": "text/x-python",
   "name": "python",
   "nbconvert_exporter": "python",
   "pygments_lexer": "ipython2",
   "version": "2.7.6"
  }
 },
 "nbformat": 4,
 "nbformat_minor": 5
}
