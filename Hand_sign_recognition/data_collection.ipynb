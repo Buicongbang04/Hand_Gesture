{
 "cells": [
  {
   "cell_type": "code",
   "id": "initial_id",
   "metadata": {
    "collapsed": true,
    "ExecuteTime": {
     "end_time": "2024-06-24T12:15:33.242051Z",
     "start_time": "2024-06-24T12:15:33.097410Z"
    }
   },
   "source": [
    "import os\n",
    "import cv2\n",
    "import time"
   ],
   "outputs": [],
   "execution_count": 2
  },
  {
   "metadata": {
    "ExecuteTime": {
     "end_time": "2024-06-24T12:15:33.353024Z",
     "start_time": "2024-06-24T12:15:33.327348Z"
    }
   },
   "cell_type": "code",
   "source": [
    "DATA_DIR = './data'\n",
    "if not os.path.exists(DATA_DIR):\n",
    "    os.makedirs(DATA_DIR)"
   ],
   "id": "23cabf5652d3418e",
   "outputs": [],
   "execution_count": 3
  },
  {
   "metadata": {
    "ExecuteTime": {
     "end_time": "2024-06-24T12:15:33.651089Z",
     "start_time": "2024-06-24T12:15:33.637339Z"
    }
   },
   "cell_type": "code",
   "source": [
    "classes = ['A', 'B', 'C', 'D', 'E', 'F', 'G', 'H', 'I', 'J', 'K', 'L', 'M', 'N', 'O', 'P', 'Q', 'R', 'T', 'U', 'V', 'W', 'X', 'Y', 'Z']\n",
    "data_size = 100"
   ],
   "id": "f9041d93d3008ecf",
   "outputs": [],
   "execution_count": 4
  },
  {
   "metadata": {
    "ExecuteTime": {
     "end_time": "2024-06-24T12:15:34.757216Z",
     "start_time": "2024-06-24T12:15:34.727429Z"
    }
   },
   "cell_type": "code",
   "source": [
    "if not os.path.exists(os.path.join(DATA_DIR, classes[3])):\n",
    "    os.makedirs(os.path.join(DATA_DIR, classes[3]))\n",
    "print(\"Collecting data for class {}\".format(classes[3]))"
   ],
   "id": "9c570326eaaf1e1f",
   "outputs": [
    {
     "name": "stdout",
     "output_type": "stream",
     "text": [
      "Collecting data for class D\n"
     ]
    }
   ],
   "execution_count": 5
  },
  {
   "metadata": {
    "ExecuteTime": {
     "end_time": "2024-06-24T12:17:46.683115Z",
     "start_time": "2024-06-24T12:15:53.901855Z"
    }
   },
   "cell_type": "code",
   "source": [
    "cap = cv2.VideoCapture(0)\n",
    "while cap.isOpened():\n",
    "    ret, frame = cap.read()\n",
    "    if not ret: break\n",
    "    frame = cv2.flip(frame, 1)\n",
    "    frameRGB = cv2.cvtColor(frame, cv2.COLOR_BGR2RGB)\n",
    "    cv2.imshow('Frame', frame)\n",
    "    \n",
    "    count = 1\n",
    "    while count <= data_size:\n",
    "        print(\"Collecting data number {}\".format(count))\n",
    "        cv2.imwrite(os.path.join(DATA_DIR, classes[3], \"_{}.jpg\".format(count)), frame)\n",
    "        count+=1\n",
    "        time.sleep(1)\n",
    "    if count == data_size: break\n",
    "    \n",
    "    if cv2.waitKey(1) & 0xFF == ord('q'):\n",
    "        break\n",
    "cap.release()\n",
    "cv2.destroyAllWindows()"
   ],
   "id": "d46af06e8d82101e",
   "outputs": [
    {
     "name": "stdout",
     "output_type": "stream",
     "text": [
      "Collecting data number 1\n",
      "Collecting data number 2\n",
      "Collecting data number 3\n",
      "Collecting data number 4\n",
      "Collecting data number 5\n",
      "Collecting data number 6\n",
      "Collecting data number 7\n",
      "Collecting data number 8\n",
      "Collecting data number 9\n",
      "Collecting data number 10\n",
      "Collecting data number 11\n",
      "Collecting data number 12\n",
      "Collecting data number 13\n",
      "Collecting data number 14\n",
      "Collecting data number 15\n",
      "Collecting data number 16\n",
      "Collecting data number 17\n",
      "Collecting data number 18\n",
      "Collecting data number 19\n",
      "Collecting data number 20\n",
      "Collecting data number 21\n",
      "Collecting data number 22\n",
      "Collecting data number 23\n",
      "Collecting data number 24\n",
      "Collecting data number 25\n",
      "Collecting data number 26\n",
      "Collecting data number 27\n",
      "Collecting data number 28\n",
      "Collecting data number 29\n",
      "Collecting data number 30\n",
      "Collecting data number 31\n",
      "Collecting data number 32\n",
      "Collecting data number 33\n",
      "Collecting data number 34\n",
      "Collecting data number 35\n",
      "Collecting data number 36\n",
      "Collecting data number 37\n",
      "Collecting data number 38\n",
      "Collecting data number 39\n",
      "Collecting data number 40\n",
      "Collecting data number 41\n",
      "Collecting data number 42\n",
      "Collecting data number 43\n",
      "Collecting data number 44\n",
      "Collecting data number 45\n",
      "Collecting data number 46\n",
      "Collecting data number 47\n",
      "Collecting data number 48\n",
      "Collecting data number 49\n",
      "Collecting data number 50\n",
      "Collecting data number 51\n",
      "Collecting data number 52\n",
      "Collecting data number 53\n",
      "Collecting data number 54\n",
      "Collecting data number 55\n",
      "Collecting data number 56\n",
      "Collecting data number 57\n",
      "Collecting data number 58\n",
      "Collecting data number 59\n",
      "Collecting data number 60\n",
      "Collecting data number 61\n",
      "Collecting data number 62\n",
      "Collecting data number 63\n",
      "Collecting data number 64\n",
      "Collecting data number 65\n",
      "Collecting data number 66\n",
      "Collecting data number 67\n",
      "Collecting data number 68\n",
      "Collecting data number 69\n",
      "Collecting data number 70\n",
      "Collecting data number 71\n",
      "Collecting data number 72\n",
      "Collecting data number 73\n",
      "Collecting data number 74\n",
      "Collecting data number 75\n",
      "Collecting data number 76\n",
      "Collecting data number 77\n",
      "Collecting data number 78\n",
      "Collecting data number 79\n",
      "Collecting data number 80\n",
      "Collecting data number 81\n",
      "Collecting data number 82\n",
      "Collecting data number 83\n",
      "Collecting data number 84\n",
      "Collecting data number 85\n",
      "Collecting data number 86\n",
      "Collecting data number 87\n",
      "Collecting data number 88\n",
      "Collecting data number 89\n",
      "Collecting data number 90\n",
      "Collecting data number 91\n",
      "Collecting data number 92\n",
      "Collecting data number 93\n",
      "Collecting data number 94\n",
      "Collecting data number 95\n",
      "Collecting data number 96\n",
      "Collecting data number 97\n",
      "Collecting data number 98\n",
      "Collecting data number 99\n",
      "Collecting data number 100\n",
      "Collecting data number 1\n",
      "Collecting data number 2\n",
      "Collecting data number 3\n",
      "Collecting data number 4\n",
      "Collecting data number 5\n",
      "Collecting data number 6\n",
      "Collecting data number 7\n"
     ]
    },
    {
     "ename": "KeyboardInterrupt",
     "evalue": "",
     "output_type": "error",
     "traceback": [
      "\u001B[1;31m---------------------------------------------------------------------------\u001B[0m",
      "\u001B[1;31mKeyboardInterrupt\u001B[0m                         Traceback (most recent call last)",
      "Cell \u001B[1;32mIn[6], line 14\u001B[0m\n\u001B[0;32m     12\u001B[0m     cv2\u001B[38;5;241m.\u001B[39mimwrite(os\u001B[38;5;241m.\u001B[39mpath\u001B[38;5;241m.\u001B[39mjoin(DATA_DIR, classes[\u001B[38;5;241m3\u001B[39m], \u001B[38;5;124m\"\u001B[39m\u001B[38;5;124m_\u001B[39m\u001B[38;5;132;01m{}\u001B[39;00m\u001B[38;5;124m.jpg\u001B[39m\u001B[38;5;124m\"\u001B[39m\u001B[38;5;241m.\u001B[39mformat(count)), frame)\n\u001B[0;32m     13\u001B[0m     count\u001B[38;5;241m+\u001B[39m\u001B[38;5;241m=\u001B[39m\u001B[38;5;241m1\u001B[39m\n\u001B[1;32m---> 14\u001B[0m     \u001B[43mtime\u001B[49m\u001B[38;5;241;43m.\u001B[39;49m\u001B[43msleep\u001B[49m\u001B[43m(\u001B[49m\u001B[38;5;241;43m1\u001B[39;49m\u001B[43m)\u001B[49m\n\u001B[0;32m     16\u001B[0m \u001B[38;5;28;01mif\u001B[39;00m count \u001B[38;5;241m==\u001B[39m data_size: \u001B[38;5;28;01mbreak\u001B[39;00m\n\u001B[0;32m     18\u001B[0m \u001B[38;5;28;01mif\u001B[39;00m cv2\u001B[38;5;241m.\u001B[39mwaitKey(\u001B[38;5;241m1\u001B[39m) \u001B[38;5;241m&\u001B[39m \u001B[38;5;241m0xFF\u001B[39m \u001B[38;5;241m==\u001B[39m \u001B[38;5;28mord\u001B[39m(\u001B[38;5;124m'\u001B[39m\u001B[38;5;124mq\u001B[39m\u001B[38;5;124m'\u001B[39m):\n",
      "\u001B[1;31mKeyboardInterrupt\u001B[0m: "
     ]
    }
   ],
   "execution_count": 6
  },
  {
   "metadata": {
    "ExecuteTime": {
     "end_time": "2024-06-24T12:18:09.199500Z",
     "start_time": "2024-06-24T12:18:08.942100Z"
    }
   },
   "cell_type": "code",
   "source": [
    "cap.release()\n",
    "cv2.destroyAllWindows()"
   ],
   "id": "4fa4357562036b7a",
   "outputs": [
    {
     "ename": "NameError",
     "evalue": "name 'cap' is not defined",
     "output_type": "error",
     "traceback": [
      "\u001B[1;31m---------------------------------------------------------------------------\u001B[0m",
      "\u001B[1;31mNameError\u001B[0m                                 Traceback (most recent call last)",
      "Cell \u001B[1;32mIn[1], line 1\u001B[0m\n\u001B[1;32m----> 1\u001B[0m \u001B[43mcap\u001B[49m\u001B[38;5;241m.\u001B[39mrelease()\n\u001B[0;32m      2\u001B[0m cv2\u001B[38;5;241m.\u001B[39mdestroyAllWindows()\n",
      "\u001B[1;31mNameError\u001B[0m: name 'cap' is not defined"
     ]
    }
   ],
   "execution_count": 1
  },
  {
   "metadata": {},
   "cell_type": "code",
   "outputs": [],
   "execution_count": null,
   "source": "",
   "id": "769d4abc9edf48eb"
  }
 ],
 "metadata": {
  "kernelspec": {
   "display_name": "Python 3",
   "language": "python",
   "name": "python3"
  },
  "language_info": {
   "codemirror_mode": {
    "name": "ipython",
    "version": 2
   },
   "file_extension": ".py",
   "mimetype": "text/x-python",
   "name": "python",
   "nbconvert_exporter": "python",
   "pygments_lexer": "ipython2",
   "version": "2.7.6"
  }
 },
 "nbformat": 4,
 "nbformat_minor": 5
}
