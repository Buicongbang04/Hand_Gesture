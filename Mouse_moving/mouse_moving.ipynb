{
 "cells": [
  {
   "metadata": {
    "ExecuteTime": {
     "end_time": "2024-06-22T17:36:42.524643Z",
     "start_time": "2024-06-22T17:36:41.372230Z"
    }
   },
   "cell_type": "code",
   "source": "%pip install pynput",
   "id": "3a5ca20b4c6b2f46",
   "outputs": [
    {
     "name": "stdout",
     "output_type": "stream",
     "text": [
      "Requirement already satisfied: pynput in d:\\anaconda3\\envs\\hand_gesture\\lib\\site-packages (1.7.7)\n",
      "Requirement already satisfied: six in d:\\anaconda3\\envs\\hand_gesture\\lib\\site-packages (from pynput) (1.16.0)\n",
      "Note: you may need to restart the kernel to use updated packages.\n"
     ]
    }
   ],
   "execution_count": 1
  },
  {
   "metadata": {
    "ExecuteTime": {
     "end_time": "2024-06-22T17:36:45.963014Z",
     "start_time": "2024-06-22T17:36:42.526643Z"
    }
   },
   "cell_type": "code",
   "source": [
    "import cv2\n",
    "import mediapipe as mp\n",
    "import pyautogui as pag # using this library for mouse moving\n",
    "import  utils\n",
    "from pynput.mouse import Button, Controller\n",
    "import random\n"
   ],
   "id": "initial_id",
   "outputs": [],
   "execution_count": 2
  },
  {
   "metadata": {
    "ExecuteTime": {
     "end_time": "2024-06-22T17:36:45.994629Z",
     "start_time": "2024-06-22T17:36:45.964004Z"
    }
   },
   "cell_type": "code",
   "source": [
    "screen_width, screen_height = pag.size()\n",
    "mpHands = mp.solutions.hands\n",
    "hands = mpHands.Hands(\n",
    "    static_image_mode=False,\n",
    "    model_complexity=1,\n",
    "    min_detection_confidence=0.7,\n",
    "    min_tracking_confidence=0.7,\n",
    "    max_num_hands=1\n",
    ")\n",
    "mouse = Controller()"
   ],
   "id": "e2ea01f87af5bee7",
   "outputs": [],
   "execution_count": 3
  },
  {
   "metadata": {
    "ExecuteTime": {
     "end_time": "2024-06-22T17:36:46.009802Z",
     "start_time": "2024-06-22T17:36:45.995573Z"
    }
   },
   "cell_type": "code",
   "source": [
    "def find_finger_tip(processed):\n",
    "    if processed.multi_hand_landmarks:\n",
    "        hand_landmarks = processed.multi_hand_landmarks[0]\n",
    "        return hand_landmarks.landmark[mpHands.HandLandmark.INDEX_FINGER_TIP]\n",
    "    return None"
   ],
   "id": "206a1ffeeff7e4b4",
   "outputs": [],
   "execution_count": 4
  },
  {
   "metadata": {
    "ExecuteTime": {
     "end_time": "2024-06-22T17:36:46.025866Z",
     "start_time": "2024-06-22T17:36:46.011856Z"
    }
   },
   "cell_type": "code",
   "source": [
    "def moving_mouse(index_finger_tip):\n",
    "    if index_finger_tip:\n",
    "        x = int(index_finger_tip.x * screen_width)\n",
    "        y = int(index_finger_tip.y * screen_height)\n",
    "        pag.moveTo(x, y)"
   ],
   "id": "29f61a728c8eb4d2",
   "outputs": [],
   "execution_count": 5
  },
  {
   "metadata": {
    "ExecuteTime": {
     "end_time": "2024-06-22T17:41:39.198072Z",
     "start_time": "2024-06-22T17:41:39.166853Z"
    }
   },
   "cell_type": "code",
   "source": [
    "def detect_gesture(frame, landmarks_list, processed):\n",
    "    if(len(landmarks_list) >= 21):\n",
    "        index_finger_tip = find_finger_tip(processed)\n",
    "        thumb_index_dist = utils.get_distance([landmarks_list[4], landmarks_list[5]])\n",
    "        thumb_index_angle = utils.get_angle(landmarks_list[5], landmarks_list[6], landmarks_list[8])\n",
    "        \n",
    "        if thumb_index_dist < 50 and thumb_index_angle > 90:    \n",
    "            moving_mouse(index_finger_tip)\n",
    "            \n",
    "#         LEFT CLICK\n",
    "        elif is_left_click(landmarks_list, thumb_index_dist):\n",
    "            mouse.press(Button.left)\n",
    "            mouse.release(Button.left)\n",
    "            cv2.putText(frame, \"Left click\", (50, 50), cv2.FONT_HERSHEY_SIMPLEX, 1, (0, 255, 0), 2)\n",
    "#         RIGHT CLICK\n",
    "        elif is_right_click(landmarks_list, thumb_index_dist):\n",
    "            mouse.press(Button.right)\n",
    "            mouse.release(Button.right)\n",
    "            cv2.putText(frame, \"Right click\",(50, 50), cv2.FONT_HERSHEY_SIMPLEX, 1, (0, 255, 0), 2)\n",
    "#         DOUBLE CLICK\n",
    "        elif is_double_click(landmarks_list, thumb_index_angle):\n",
    "            pag.doubleClick()\n",
    "            cv2.putText(frame, \"Double click\", (50, 50), cv2.FONT_HERSHEY_SIMPLEX, 1, (0, 255, 0), 2)\n",
    "#         SCREENSHOT\n",
    "        elif is_screenshot(landmarks_list, thumb_index_dist):\n",
    "            img = pag.screenshot()\n",
    "            label = random.randint(1, 1000)\n",
    "            img.save( \".\\\\screenshot\\\\image\" + str(label) + \".png\")\n",
    "            cv2.putText(frame, \"Screenshot\", (50, 50), cv2.FONT_HERSHEY_SIMPLEX, 1, (0, 255, 0), 2)"
   ],
   "id": "7cdf643440cf0f6a",
   "outputs": [],
   "execution_count": 10
  },
  {
   "metadata": {
    "ExecuteTime": {
     "end_time": "2024-06-22T17:36:46.057302Z",
     "start_time": "2024-06-22T17:36:46.042192Z"
    }
   },
   "cell_type": "code",
   "source": [
    "def is_left_click(landmarks_list,thumb_index_dist):\n",
    "    return (utils.get_angle(landmarks_list[5], landmarks_list[6], landmarks_list[8]) < 50 and\n",
    "            utils.get_angle(landmarks_list[9], landmarks_list[10], landmarks_list[12]) > 90 and\n",
    "            thumb_index_dist > 50)\n",
    "\n",
    "def is_right_click(landmarks_list,thumb_index_dist):\n",
    "    return (utils.get_angle(landmarks_list[5], landmarks_list[6], landmarks_list[8]) > 90 and\n",
    "            utils.get_angle(landmarks_list[9], landmarks_list[10], landmarks_list[12]) < 50 and\n",
    "            thumb_index_dist > 50)\n",
    "\n",
    "def is_double_click(landmarks_list,thumb_index_dist):\n",
    "    return (utils.get_angle(landmarks_list[5], landmarks_list[6], landmarks_list[8]) < 50 and\n",
    "            utils.get_angle(landmarks_list[9], landmarks_list[10], landmarks_list[12]) < 50 and \n",
    "            thumb_index_dist > 50)\n",
    "\n",
    "def is_screenshot(landmarks_list,thumb_index_dist):\n",
    "    return (utils.get_angle(landmarks_list[5], landmarks_list[6], landmarks_list[8]) < 50 and\n",
    "            utils.get_angle(landmarks_list[9], landmarks_list[10], landmarks_list[12]) < 50 and \n",
    "            thumb_index_dist < 50)\n"
   ],
   "id": "435b468110d851ec",
   "outputs": [],
   "execution_count": 7
  },
  {
   "metadata": {
    "ExecuteTime": {
     "end_time": "2024-06-22T17:41:52.594991Z",
     "start_time": "2024-06-22T17:41:41.826821Z"
    }
   },
   "cell_type": "code",
   "source": [
    "def main():\n",
    "    cap = cv2.VideoCapture(0)\n",
    "    draw = mp.solutions.drawing_utils\n",
    "    try:\n",
    "        while cap.isOpened():\n",
    "            ret, frame = cap.read()\n",
    "            if not ret:\n",
    "                break\n",
    "            frame = cv2.flip(frame, 1)\n",
    "            frameRGB = cv2.cvtColor(frame, cv2.COLOR_BGR2RGB)\n",
    "            processed = hands.process(frameRGB)\n",
    "            landmarks_list =  list()\n",
    "            \n",
    "            if processed.multi_hand_landmarks:\n",
    "                hand_landmarks = processed.multi_hand_landmarks[0]\n",
    "                draw.draw_landmarks(frame, hand_landmarks, mpHands.HAND_CONNECTIONS)\n",
    "                \n",
    "                for lm in hand_landmarks.landmark:\n",
    "                    landmarks_list.append((lm.x, lm.y))\n",
    "                    \n",
    "            detect_gesture(frame, landmarks_list, processed)\n",
    "            \n",
    "            cv2.imshow('Frame', frame)\n",
    "            if cv2.waitKey(1) & 0xFF == ord('q'):\n",
    "                break\n",
    "    finally:\n",
    "        cap.release()\n",
    "        cv2.destroyAllWindows()\n",
    "        \n",
    "if __name__ == '__main__':\n",
    "    main()"
   ],
   "id": "973191d70bb78039",
   "outputs": [],
   "execution_count": 11
  },
  {
   "metadata": {
    "ExecuteTime": {
     "end_time": "2024-06-22T17:38:49.979638Z",
     "start_time": "2024-06-22T17:38:49.964013Z"
    }
   },
   "cell_type": "code",
   "source": "",
   "id": "5f1f903093967db1",
   "outputs": [],
   "execution_count": 8
  }
 ],
 "metadata": {
  "kernelspec": {
   "display_name": "Python 3",
   "language": "python",
   "name": "python3"
  },
  "language_info": {
   "codemirror_mode": {
    "name": "ipython",
    "version": 2
   },
   "file_extension": ".py",
   "mimetype": "text/x-python",
   "name": "python",
   "nbconvert_exporter": "python",
   "pygments_lexer": "ipython2",
   "version": "2.7.6"
  }
 },
 "nbformat": 4,
 "nbformat_minor": 5
}
